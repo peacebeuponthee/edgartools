{
 "cells": [
  {
   "cell_type": "code",
   "execution_count": 129,
   "id": "5e644d39-64c5-4915-be37-f741ddd69050",
   "metadata": {},
   "outputs": [],
   "source": [
    "import pandas\n",
    "import re\n",
    "import inspect\n",
    "import importlib\n",
    "from dateutil import parser"
   ]
  },
  {
   "cell_type": "code",
   "execution_count": 101,
   "id": "1246c03c-db8a-4760-8e22-2554f891a1e7",
   "metadata": {},
   "outputs": [],
   "source": [
    "from eddy import period"
   ]
  },
  {
   "cell_type": "code",
   "execution_count": 283,
   "id": "e714eab2",
   "metadata": {},
   "outputs": [
    {
     "data": {
      "text/plain": [
       "<module 'eddy.period' from '/workspaces/edgartools/eddy/period.py'>"
      ]
     },
     "execution_count": 283,
     "metadata": {},
     "output_type": "execute_result"
    }
   ],
   "source": [
    "importlib.reload(period)"
   ]
  },
  {
   "cell_type": "code",
   "execution_count": 266,
   "id": "86c69962-d54f-43d0-9109-1b1f560697a6",
   "metadata": {},
   "outputs": [],
   "source": [
    "pattern = re.compile(r'(?:CY|FY|Y)?(\\d{4})?(?:-?Q([1-4])|$)?', re.IGNORECASE)"
   ]
  },
  {
   "cell_type": "code",
   "execution_count": 63,
   "id": "66284d97",
   "metadata": {},
   "outputs": [],
   "source": [
    "valid_set = {\n",
    "    'quarter',\n",
    "    'year',\n",
    "    'both',\n",
    "}"
   ]
  },
  {
   "cell_type": "code",
   "execution_count": 282,
   "id": "5a736cca-6ac3-48c0-9d0e-78e511db30c0",
   "metadata": {},
   "outputs": [
    {
     "data": {
      "text/plain": [
       "('2023', None)"
      ]
     },
     "execution_count": 282,
     "metadata": {},
     "output_type": "execute_result"
    }
   ],
   "source": [
    "pattern.search(str('2023\\'Q2')).groups()"
   ]
  },
  {
   "cell_type": "code",
   "execution_count": 62,
   "id": "2834ba7b",
   "metadata": {},
   "outputs": [
    {
     "data": {
      "text/plain": [
       "PeriodIndex(['2023Q4'], dtype='period[Q-DEC]')"
      ]
     },
     "execution_count": 62,
     "metadata": {},
     "output_type": "execute_result"
    }
   ],
   "source": [
    "pandas.PeriodIndex(['2023Q4'], freq='Q')"
   ]
  },
  {
   "cell_type": "code",
   "execution_count": 71,
   "id": "163e1a47",
   "metadata": {},
   "outputs": [
    {
     "data": {
      "text/plain": [
       "True"
      ]
     },
     "execution_count": 71,
     "metadata": {},
     "output_type": "execute_result"
    }
   ],
   "source": [
    "'adfasdf' not in valid_set"
   ]
  },
  {
   "cell_type": "code",
   "execution_count": 67,
   "id": "aaa23de5",
   "metadata": {},
   "outputs": [
    {
     "data": {
      "text/plain": [
       "True"
      ]
     },
     "execution_count": 67,
     "metadata": {},
     "output_type": "execute_result"
    }
   ],
   "source": [
    "'quarter' in 'quarter'"
   ]
  },
  {
   "cell_type": "code",
   "execution_count": 82,
   "id": "09e7bc05",
   "metadata": {},
   "outputs": [],
   "source": [
    "def test_func():\n",
    "    raise TypeError(\"{} got an unexpected keyword argument\".format((inspect.currentframe().f_code.co_name)))"
   ]
  },
  {
   "cell_type": "code",
   "execution_count": 83,
   "id": "4f21c997",
   "metadata": {},
   "outputs": [
    {
     "ename": "TypeError",
     "evalue": "test_func got an unexpected keyword argument",
     "output_type": "error",
     "traceback": [
      "\u001b[0;31m---------------------------------------------------------------------------\u001b[0m",
      "\u001b[0;31mTypeError\u001b[0m                                 Traceback (most recent call last)",
      "Cell \u001b[0;32mIn[83], line 1\u001b[0m\n\u001b[0;32m----> 1\u001b[0m test_func()\n",
      "Cell \u001b[0;32mIn[82], line 2\u001b[0m, in \u001b[0;36mtest_func\u001b[0;34m()\u001b[0m\n\u001b[1;32m      1\u001b[0m \u001b[38;5;28;01mdef\u001b[39;00m \u001b[38;5;21mtest_func\u001b[39m():\n\u001b[0;32m----> 2\u001b[0m     \u001b[38;5;28;01mraise\u001b[39;00m \u001b[38;5;167;01mTypeError\u001b[39;00m(\u001b[38;5;124m\"\u001b[39m\u001b[38;5;132;01m{}\u001b[39;00m\u001b[38;5;124m got an unexpected keyword argument\u001b[39m\u001b[38;5;124m\"\u001b[39m\u001b[38;5;241m.\u001b[39mformat((inspect\u001b[38;5;241m.\u001b[39mcurrentframe()\u001b[38;5;241m.\u001b[39mf_code\u001b[38;5;241m.\u001b[39mco_name)))\n",
      "\u001b[0;31mTypeError\u001b[0m: test_func got an unexpected keyword argument"
     ]
    }
   ],
   "source": [
    "test_func()"
   ]
  },
  {
   "cell_type": "code",
   "execution_count": 96,
   "id": "f1bedfa2",
   "metadata": {},
   "outputs": [
    {
     "data": {
      "text/plain": [
       "int"
      ]
     },
     "execution_count": 96,
     "metadata": {},
     "output_type": "execute_result"
    }
   ],
   "source": [
    "type(pandas.Timestamp.now().year)"
   ]
  },
  {
   "cell_type": "code",
   "execution_count": 290,
   "id": "d0811287",
   "metadata": {},
   "outputs": [
    {
     "data": {
      "text/plain": [
       "PeriodIndex(['2023'], dtype='period[A-DEC]')"
      ]
     },
     "execution_count": 290,
     "metadata": {},
     "output_type": "execute_result"
    }
   ],
   "source": [
    "period.parse('CY2023')"
   ]
  },
  {
   "cell_type": "code",
   "execution_count": null,
   "id": "c04d9b9b",
   "metadata": {},
   "outputs": [],
   "source": []
  }
 ],
 "metadata": {
  "kernelspec": {
   "display_name": "Python 3 (ipykernel)",
   "language": "python",
   "name": "python3"
  },
  "language_info": {
   "codemirror_mode": {
    "name": "ipython",
    "version": 3
   },
   "file_extension": ".py",
   "mimetype": "text/x-python",
   "name": "python",
   "nbconvert_exporter": "python",
   "pygments_lexer": "ipython3",
   "version": "3.11.5"
  }
 },
 "nbformat": 4,
 "nbformat_minor": 5
}
