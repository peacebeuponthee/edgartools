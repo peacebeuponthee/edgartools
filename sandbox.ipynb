{
 "cells": [
  {
   "cell_type": "code",
   "execution_count": 10,
   "id": "5e644d39-64c5-4915-be37-f741ddd69050",
   "metadata": {},
   "outputs": [],
   "source": [
    "import pandas\n",
    "import re"
   ]
  },
  {
   "cell_type": "code",
   "execution_count": 2,
   "id": "1246c03c-db8a-4760-8e22-2554f891a1e7",
   "metadata": {},
   "outputs": [],
   "source": [
    "from eddy import period"
   ]
  },
  {
   "cell_type": "code",
   "execution_count": 51,
   "id": "86c69962-d54f-43d0-9109-1b1f560697a6",
   "metadata": {},
   "outputs": [],
   "source": [
    "pattern = re.compile(r'(?:CY|FY|Y)?(\\d{2,4})?(?:Q(\\d))?', re.IGNORECASE)"
   ]
  },
  {
   "cell_type": "code",
   "execution_count": 40,
   "id": "66284d97",
   "metadata": {},
   "outputs": [],
   "source": [
    "period = '2023-01-01'"
   ]
  },
  {
   "cell_type": "code",
   "execution_count": 58,
   "id": "5a736cca-6ac3-48c0-9d0e-78e511db30c0",
   "metadata": {},
   "outputs": [
    {
     "data": {
      "text/plain": [
       "(None, None)"
      ]
     },
     "execution_count": 58,
     "metadata": {},
     "output_type": "execute_result"
    }
   ],
   "source": [
    "pattern.search(str('q3')).groups()"
   ]
  },
  {
   "cell_type": "code",
   "execution_count": null,
   "id": "2834ba7b",
   "metadata": {},
   "outputs": [],
   "source": []
  }
 ],
 "metadata": {
  "kernelspec": {
   "display_name": "Python 3 (ipykernel)",
   "language": "python",
   "name": "python3"
  },
  "language_info": {
   "codemirror_mode": {
    "name": "ipython",
    "version": 3
   },
   "file_extension": ".py",
   "mimetype": "text/x-python",
   "name": "python",
   "nbconvert_exporter": "python",
   "pygments_lexer": "ipython3",
   "version": "3.11.5"
  }
 },
 "nbformat": 4,
 "nbformat_minor": 5
}
