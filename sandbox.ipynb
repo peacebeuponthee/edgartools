{
 "cells": [
  {
   "cell_type": "code",
   "execution_count": 1,
   "id": "5e644d39-64c5-4915-be37-f741ddd69050",
   "metadata": {},
   "outputs": [],
   "source": [
    "import pandas"
   ]
  },
  {
   "cell_type": "code",
   "execution_count": 2,
   "id": "1246c03c-db8a-4760-8e22-2554f891a1e7",
   "metadata": {},
   "outputs": [],
   "source": [
    "from eddy import period"
   ]
  },
  {
   "cell_type": "code",
   "execution_count": 5,
   "id": "86c69962-d54f-43d0-9109-1b1f560697a6",
   "metadata": {},
   "outputs": [
    {
     "data": {
      "text/plain": [
       "'2023'"
      ]
     },
     "execution_count": 5,
     "metadata": {},
     "output_type": "execute_result"
    }
   ],
   "source": [
    "period.parse_period('CY2023')"
   ]
  },
  {
   "cell_type": "code",
   "execution_count": null,
   "id": "5a736cca-6ac3-48c0-9d0e-78e511db30c0",
   "metadata": {},
   "outputs": [],
   "source": []
  }
 ],
 "metadata": {
  "kernelspec": {
   "display_name": "Python 3 (ipykernel)",
   "language": "python",
   "name": "python3"
  },
  "language_info": {
   "codemirror_mode": {
    "name": "ipython",
    "version": 3
   },
   "file_extension": ".py",
   "mimetype": "text/x-python",
   "name": "python",
   "nbconvert_exporter": "python",
   "pygments_lexer": "ipython3",
   "version": "3.11.5"
  }
 },
 "nbformat": 4,
 "nbformat_minor": 5
}
